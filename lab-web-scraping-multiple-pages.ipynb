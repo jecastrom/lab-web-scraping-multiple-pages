{
 "cells": [
  {
   "cell_type": "markdown",
   "id": "4603825c-13d8-4dec-8bb3-608b73ba1a70",
   "metadata": {},
   "source": [
    "## Lab | Web Scraping Multiple Pages BLOCKER\n",
    "Jorge Castro DAPT NOV 2021"
   ]
  },
  {
   "cell_type": "markdown",
   "id": "ba0fadef-2d91-41f7-bf79-9601d33c942b",
   "metadata": {},
   "source": [
    "### Instructions\n",
    "\n",
    "#### Prioritize the MVP\n",
    "\n",
    "In the previous lab, you had to scrape data about \"hot songs\". It's critical to be on track with that part, as it was part of the request from the CTO.\n",
    "\n",
    "If you couldn't finish the first lab, use this time to go back there.\n",
    "\n",
    "Expand the project\n",
    "If you're done, you can try to expand the project on your own. Here are a few suggestions:\n",
    "\n",
    "Find other lists of hot songs on the internet and scrape them too: having a bigger pool of songs will be awesome!\n",
    "Apply the same logic to other \"groups\" of songs: the best songs from a decade or from a country / culture / language / genre.\n",
    "Wikipedia maintains a large collection of lists of songs: https://en.wikipedia.org/wiki/Lists_of_songs"
   ]
  },
  {
   "cell_type": "code",
   "execution_count": 4,
   "id": "b10f560b-f8f0-46e4-b94f-736f95a1d88b",
   "metadata": {},
   "outputs": [],
   "source": [
    "from bs4 import BeautifulSoup\n",
    "import pandas as pd\n",
    "import requests"
   ]
  },
  {
   "cell_type": "code",
   "execution_count": 5,
   "id": "aa06322a-8f53-4631-86c0-68f8cbfcbe1c",
   "metadata": {},
   "outputs": [],
   "source": [
    "from time import sleep\n",
    "import random\n",
    "from datetime import datetime\n",
    "from tqdm.notebook import tqdm"
   ]
  },
  {
   "cell_type": "raw",
   "id": "665198b0-bacb-4915-bcc9-f6625139f2f5",
   "metadata": {},
   "source": [
    "r = requests.get('https://en.wikipedia.org/wiki/List_of_Eurovision_Song_Contest_entries_(2004%E2%80%93present)')"
   ]
  },
  {
   "cell_type": "raw",
   "id": "5e7bbe71-12ec-4fd3-a0ba-0d348e76b9a8",
   "metadata": {},
   "source": [
    "r.status_code"
   ]
  },
  {
   "cell_type": "raw",
   "id": "81438264-78e6-4086-8e6a-d487b47f91b4",
   "metadata": {},
   "source": [
    "html = r.content\n",
    "soup = BeautifulSoup(html, 'html.parser')\n",
    "\n",
    "# Get all the tables with Eurovision songs\n",
    "\n",
    "html_table = soup.find_all('table', attrs={'class': 'wikitable plainrowheaders'})"
   ]
  },
  {
   "cell_type": "raw",
   "id": "fc84a9d6-5488-4cde-a3af-ae77a95f1f83",
   "metadata": {},
   "source": [
    "#html_table"
   ]
  },
  {
   "cell_type": "raw",
   "id": "38c938d1-40f5-4ccb-a853-ef1f8198408d",
   "metadata": {},
   "source": [
    "# Creating DataFrame, loopping through the raw data and fetching the elements\n",
    "\n",
    "eurosong = pd.DataFrame()\n",
    "\n",
    "for i in range(len(html_table)):\n",
    "    df = pd.read_html(html_table[i].prettify())[0]\n",
    "    eurosong = pd.concat([eurosong, df])"
   ]
  },
  {
   "cell_type": "raw",
   "id": "a5753b1e-29ff-4150-b04b-e44531bf0ef6",
   "metadata": {},
   "source": [
    "#df"
   ]
  },
  {
   "cell_type": "raw",
   "id": "54bb0e06-0125-4e94-9620-ba2e1eb37a3d",
   "metadata": {},
   "source": [
    "##### Cleaning the data"
   ]
  },
  {
   "cell_type": "raw",
   "id": "2fedffb5-7793-4b29-b918-eafbe9d75967",
   "metadata": {},
   "source": [
    "# Making all column names lowercase and replacing spaces by underscore\n",
    "\n",
    "eurosong.columns=[eurosong.columns[col_name].lower().replace(' ','_') \\\n",
    "for col_name in range(len(eurosong.columns))]"
   ]
  },
  {
   "cell_type": "raw",
   "id": "e5cf8216-bf59-4092-b157-523ec5a5e78e",
   "metadata": {},
   "source": [
    "eurosong.columns"
   ]
  },
  {
   "cell_type": "raw",
   "id": "cb5d33f6-a991-4a9e-a18b-d7e00d3387c9",
   "metadata": {},
   "source": [
    "# Selecting only song and artist, we need to reset the index. To avoid\n",
    "# having 2 indexes, we set the reset_index to drop=True\n",
    "\n",
    "eurosong = eurosong[['song', 'artist']].reset_index(drop=True)\n",
    "\n",
    "# Getting rid of the double quotes in every song, the I apply the strip \n",
    "# method removing both the leading and the trailing characters\n",
    "eurosong['song'] = eurosong['song'].apply(lambda title: title.replace('\"','').strip())"
   ]
  },
  {
   "cell_type": "raw",
   "id": "5be7f5a5-9bb2-423a-b213-191f439bf7d2",
   "metadata": {},
   "source": [
    "eurosong"
   ]
  },
  {
   "cell_type": "markdown",
   "id": "e73eed0a-eea2-4c9b-9541-c4cc29700f07",
   "metadata": {},
   "source": [
    "## Getting more songs from wikipedia"
   ]
  },
  {
   "cell_type": "code",
   "execution_count": 6,
   "id": "5681ae93-97fa-4606-8683-47a5b879b36c",
   "metadata": {},
   "outputs": [
    {
     "data": {
      "text/plain": [
       "200"
      ]
     },
     "execution_count": 6,
     "metadata": {},
     "output_type": "execute_result"
    }
   ],
   "source": [
    "# Making a dinamic string to create the urls\n",
    "urls = []\n",
    "for i in range(0,1):\n",
    "    urls.append(f'https://en.wikipedia.org/wiki/Billboard_Year-End_Hot_100_singles_of_200{i}')\n",
    "\n",
    "# Downloading html with a get request\n",
    "response = requests.get(urls[0])\n",
    "\n",
    "response.status_code "
   ]
  },
  {
   "cell_type": "markdown",
   "id": "5f3a40c1-eb6f-4825-b731-667462af2eca",
   "metadata": {},
   "source": [
    "\n"
   ]
  },
  {
   "cell_type": "code",
   "execution_count": 7,
   "id": "d07062ac-67d3-4eba-8918-311de7596dd9",
   "metadata": {},
   "outputs": [],
   "source": [
    "#parse html (create the 'soup')\n",
    "soups = []\n",
    "\n",
    "for i in urls:\n",
    "    soups.append(BeautifulSoup((requests.get(i)).content, 'html.parser'))"
   ]
  },
  {
   "cell_type": "code",
   "execution_count": 8,
   "id": "748e7a45-15cb-4af7-b442-97558ba8221b",
   "metadata": {},
   "outputs": [
    {
     "data": {
      "text/plain": [
       "215"
      ]
     },
     "execution_count": 8,
     "metadata": {},
     "output_type": "execute_result"
    }
   ],
   "source": [
    "len(soups[0].select('.wikitable > tbody > tr > td > a'))"
   ]
  },
  {
   "cell_type": "code",
   "execution_count": 23,
   "id": "88d85062-f622-4499-8689-31216977ec21",
   "metadata": {},
   "outputs": [],
   "source": [
    "#soups"
   ]
  },
  {
   "cell_type": "code",
   "execution_count": 24,
   "id": "53823384-3325-4b9f-9d68-4265b7a05ad1",
   "metadata": {},
   "outputs": [
    {
     "data": {
      "text/plain": [
       "[<a href=\"/wiki/Breathe_(Faith_Hill_song)\" title=\"Breathe (Faith Hill song)\">Breathe</a>,\n",
       " <a href=\"/wiki/Faith_Hill\" title=\"Faith Hill\">Faith Hill</a>,\n",
       " <a href=\"/wiki/Smooth_(Santana_song)\" title=\"Smooth (Santana song)\">Smooth</a>,\n",
       " <a href=\"/wiki/Santana_(band)\" title=\"Santana (band)\">Santana</a>,\n",
       " <a href=\"/wiki/Rob_Thomas_(musician)\" title=\"Rob Thomas (musician)\">Rob Thomas</a>,\n",
       " <a href=\"/wiki/Maria_Maria\" title=\"Maria Maria\">Maria Maria</a>,\n",
       " <a href=\"/wiki/Santana_(band)\" title=\"Santana (band)\">Santana</a>,\n",
       " <a href=\"/wiki/The_Product_G%26B\" title=\"The Product G&amp;B\">The Product G&amp;B</a>,\n",
       " <a href=\"/wiki/I_Wanna_Know_(Joe_song)\" title=\"I Wanna Know (Joe song)\">I Wanna Know</a>,\n",
       " <a href=\"/wiki/Joe_(singer)\" title=\"Joe (singer)\">Joe</a>,\n",
       " <a href=\"/wiki/Everything_You_Want_(Vertical_Horizon_song)\" title=\"Everything You Want (Vertical Horizon song)\">Everything You Want</a>,\n",
       " <a href=\"/wiki/Vertical_Horizon\" title=\"Vertical Horizon\">Vertical Horizon</a>,\n",
       " <a href=\"/wiki/Say_My_Name\" title=\"Say My Name\">Say My Name</a>,\n",
       " <a href=\"/wiki/Destiny%27s_Child\" title=\"Destiny's Child\">Destiny's Child</a>,\n",
       " <a class=\"mw-redirect\" href=\"/wiki/I_Knew_I_Loved_You_(Savage_Garden_song)\" title=\"I Knew I Loved You (Savage Garden song)\">I Knew I Loved You</a>,\n",
       " <a href=\"/wiki/Savage_Garden\" title=\"Savage Garden\">Savage Garden</a>,\n",
       " <a href=\"/wiki/Amazed\" title=\"Amazed\">Amazed</a>,\n",
       " <a href=\"/wiki/Lonestar\" title=\"Lonestar\">Lonestar</a>,\n",
       " <a href=\"/wiki/Bent_(song)\" title=\"Bent (song)\">Bent</a>,\n",
       " <a href=\"/wiki/Matchbox_Twenty\" title=\"Matchbox Twenty\">Matchbox Twenty</a>,\n",
       " <a href=\"/wiki/He_Wasn%27t_Man_Enough\" title=\"He Wasn't Man Enough\">He Wasn't Man Enough</a>,\n",
       " <a href=\"/wiki/Toni_Braxton\" title=\"Toni Braxton\">Toni Braxton</a>,\n",
       " <a href=\"/wiki/Higher_(Creed_song)\" title=\"Higher (Creed song)\">Higher</a>,\n",
       " <a href=\"/wiki/Creed_(band)\" title=\"Creed (band)\">Creed</a>,\n",
       " <a href=\"/wiki/Try_Again_(Aaliyah_song)\" title=\"Try Again (Aaliyah song)\">Try Again</a>,\n",
       " <a href=\"/wiki/Aaliyah\" title=\"Aaliyah\">Aaliyah</a>,\n",
       " <a href=\"/wiki/Jumpin%27,_Jumpin%27\" title=\"Jumpin', Jumpin'\">Jumpin', Jumpin'</a>,\n",
       " <a href=\"/wiki/Destiny%27s_Child\" title=\"Destiny's Child\">Destiny's Child</a>,\n",
       " <a href=\"/wiki/Thong_Song\" title=\"Thong Song\">Thong Song</a>,\n",
       " <a href=\"/wiki/Sisq%C3%B3\" title=\"Sisqó\">Sisqó</a>,\n",
       " <a href=\"/wiki/Kryptonite_(3_Doors_Down_song)\" title=\"Kryptonite (3 Doors Down song)\">Kryptonite</a>,\n",
       " <a href=\"/wiki/3_Doors_Down\" title=\"3 Doors Down\">3 Doors Down</a>,\n",
       " <a href=\"/wiki/There_You_Go\" title=\"There You Go\">There You Go</a>,\n",
       " <a href=\"/wiki/Pink_(singer)\" title=\"Pink (singer)\">Pink</a>,\n",
       " <a href=\"/wiki/Music_(Madonna_song)\" title=\"Music (Madonna song)\">Music</a>,\n",
       " <a href=\"/wiki/Madonna\" title=\"Madonna\">Madonna</a>,\n",
       " <a href=\"/wiki/Doesn%27t_Really_Matter\" title=\"Doesn't Really Matter\">Doesn't Really Matter</a>,\n",
       " <a href=\"/wiki/Janet_Jackson\" title=\"Janet Jackson\">Janet</a>,\n",
       " <a href=\"/wiki/What_a_Girl_Wants_(Christina_Aguilera_song)\" title=\"What a Girl Wants (Christina Aguilera song)\">What a Girl Wants</a>,\n",
       " <a href=\"/wiki/Christina_Aguilera\" title=\"Christina Aguilera\">Christina Aguilera</a>,\n",
       " <a href=\"/wiki/Back_at_One_(song)\" title=\"Back at One (song)\">Back at One</a>,\n",
       " <a href=\"/wiki/Brian_McKnight\" title=\"Brian McKnight\">Brian McKnight</a>,\n",
       " <a href=\"/wiki/Bye_Bye_Bye\" title=\"Bye Bye Bye\">Bye Bye Bye</a>,\n",
       " <a class=\"mw-redirect\" href=\"/wiki/%27N_Sync\" title=\"'N Sync\">'N Sync</a>,\n",
       " <a href=\"/wiki/You_Sang_to_Me\" title=\"You Sang to Me\">You Sang to Me</a>,\n",
       " <a href=\"/wiki/Marc_Anthony\" title=\"Marc Anthony\">Marc Anthony</a>,\n",
       " <a href=\"/wiki/I_Need_to_Know_(Marc_Anthony_song)\" title=\"I Need to Know (Marc Anthony song)\">I Need to Know</a>,\n",
       " <a href=\"/wiki/Marc_Anthony\" title=\"Marc Anthony\">Marc Anthony</a>,\n",
       " <a href=\"/wiki/Get_It_On_Tonite\" title=\"Get It On Tonite\">Get It On Tonite</a>,\n",
       " <a href=\"/wiki/Montell_Jordan\" title=\"Montell Jordan\">Montell Jordan</a>,\n",
       " <a href=\"/wiki/Incomplete_(Sisq%C3%B3_song)\" title=\"Incomplete (Sisqó song)\">Incomplete</a>,\n",
       " <a href=\"/wiki/Sisq%C3%B3\" title=\"Sisqó\">Sisqó</a>,\n",
       " <a href=\"/wiki/I_Try\" title=\"I Try\">I Try</a>,\n",
       " <a href=\"/wiki/Macy_Gray\" title=\"Macy Gray\">Macy Gray</a>,\n",
       " <a class=\"mw-redirect\" href=\"/wiki/It%27s_Gonna_Be_Me_(%27N_Sync_song)\" title=\"It's Gonna Be Me ('N Sync song)\">It's Gonna Be Me</a>,\n",
       " <a class=\"mw-redirect\" href=\"/wiki/%27N_Sync\" title=\"'N Sync\">'N Sync</a>,\n",
       " <a href=\"/wiki/That%27s_the_Way_It_Is_(Celine_Dion_song)\" title=\"That's the Way It Is (Celine Dion song)\">That's the Way It Is</a>,\n",
       " <a class=\"mw-redirect\" href=\"/wiki/C%C3%A9line_Dion\" title=\"Céline Dion\">Céline Dion</a>,\n",
       " <a href=\"/wiki/Country_Grammar_(Hot_Shit)\" title=\"Country Grammar (Hot Shit)\">Country Grammar (Hot Shit)</a>,\n",
       " <a href=\"/wiki/Nelly\" title=\"Nelly\">Nelly</a>,\n",
       " <a href=\"/wiki/Bring_It_All_to_Me\" title=\"Bring It All to Me\">Bring It All to Me</a>,\n",
       " <a href=\"/wiki/Blaque\" title=\"Blaque\">Blaque</a>,\n",
       " <a href=\"/wiki/Show_Me_the_Meaning_of_Being_Lonely\" title=\"Show Me the Meaning of Being Lonely\">Show Me the Meaning of Being Lonely</a>,\n",
       " <a href=\"/wiki/Backstreet_Boys\" title=\"Backstreet Boys\">Backstreet Boys</a>,\n",
       " <a href=\"/wiki/Hot_Boyz_(song)\" title=\"Hot Boyz (song)\">Hot Boyz</a>,\n",
       " <a href=\"/wiki/Missy_Elliott\" title=\"Missy Elliott\">Missy Elliott</a>,\n",
       " <a href=\"/wiki/Nas\" title=\"Nas\">Nas</a>,\n",
       " <a href=\"/wiki/Eve_(rapper)\" title=\"Eve (rapper)\">Eve</a>,\n",
       " <a href=\"/wiki/Q-Tip_(musician)\" title=\"Q-Tip (musician)\">Q-Tip</a>,\n",
       " <a href=\"/wiki/Back_Here\" title=\"Back Here\">Back Here</a>,\n",
       " <a href=\"/wiki/BBMak\" title=\"BBMak\">BBMak</a>,\n",
       " <a href=\"/wiki/It_Feels_So_Good\" title=\"It Feels So Good\">It Feels So Good</a>,\n",
       " <a href=\"/wiki/Sonique_(musician)\" title=\"Sonique (musician)\">Sonique</a>,\n",
       " <a href=\"/wiki/Absolutely_(Story_of_a_Girl)\" title=\"Absolutely (Story of a Girl)\">Absolutely (Story of a Girl)</a>,\n",
       " <a href=\"/wiki/Nine_Days\" title=\"Nine Days\">Nine Days</a>,\n",
       " <a href=\"/wiki/With_Arms_Wide_Open\" title=\"With Arms Wide Open\">With Arms Wide Open</a>,\n",
       " <a href=\"/wiki/Creed_(band)\" title=\"Creed (band)\">Creed</a>,\n",
       " <a href=\"/wiki/Be_with_You_(Enrique_Iglesias_song)\" title=\"Be with You (Enrique Iglesias song)\">Be with You</a>,\n",
       " <a href=\"/wiki/Enrique_Iglesias\" title=\"Enrique Iglesias\">Enrique Iglesias</a>,\n",
       " <a href=\"/wiki/Come_On_Over_Baby_(All_I_Want_Is_You)\" title=\"Come On Over Baby (All I Want Is You)\">Come On Over Baby (All I Want Is You)</a>,\n",
       " <a href=\"/wiki/Christina_Aguilera\" title=\"Christina Aguilera\">Christina Aguilera</a>,\n",
       " <a href=\"/wiki/No_More_(Ruff_Endz_song)\" title=\"No More (Ruff Endz song)\">No More</a>,\n",
       " <a href=\"/wiki/Ruff_Endz\" title=\"Ruff Endz\">Ruff Endz</a>,\n",
       " <a href=\"/wiki/All_the_Small_Things\" title=\"All the Small Things\">All the Small Things</a>,\n",
       " <a class=\"mw-redirect\" href=\"/wiki/Blink_182\" title=\"Blink 182\">Blink 182</a>,\n",
       " <a href=\"/wiki/The_Way_You_Love_Me_(Faith_Hill_song)\" title=\"The Way You Love Me (Faith Hill song)\">The Way You Love Me</a>,\n",
       " <a href=\"/wiki/Faith_Hill\" title=\"Faith Hill\">Faith Hill</a>,\n",
       " <a href=\"/wiki/I_Turn_to_You_(All-4-One_song)\" title=\"I Turn to You (All-4-One song)\">I Turn to You</a>,\n",
       " <a href=\"/wiki/Christina_Aguilera\" title=\"Christina Aguilera\">Christina Aguilera</a>,\n",
       " <a href=\"/wiki/Never_Let_You_Go_(Third_Eye_Blind_song)\" title=\"Never Let You Go (Third Eye Blind song)\">Never Let You Go</a>,\n",
       " <a href=\"/wiki/Third_Eye_Blind\" title=\"Third Eye Blind\">Third Eye Blind</a>,\n",
       " <a href=\"/wiki/I_Need_You_(LeAnn_Rimes_song)\" title=\"I Need You (LeAnn Rimes song)\">I Need You</a>,\n",
       " <a href=\"/wiki/LeAnn_Rimes\" title=\"LeAnn Rimes\">LeAnn Rimes</a>,\n",
       " <a href=\"/wiki/Thank_God_I_Found_You\" title=\"Thank God I Found You\">Thank God I Found You</a>,\n",
       " <a href=\"/wiki/Mariah_Carey\" title=\"Mariah Carey\">Mariah Carey</a>,\n",
       " <a href=\"/wiki/Joe_(singer)\" title=\"Joe (singer)\">Joe</a>,\n",
       " <a href=\"/wiki/98_Degrees\" title=\"98 Degrees\">98 Degrees</a>,\n",
       " <a href=\"/wiki/Let%27s_Get_Married_(Jagged_Edge_song)\" title=\"Let's Get Married (Jagged Edge song)\">Let's Get Married</a>,\n",
       " <a href=\"/wiki/Jagged_Edge_(American_group)\" title=\"Jagged Edge (American group)\">Jagged Edge</a>,\n",
       " <a href=\"/wiki/My_Love_Is_Your_Love_(song)\" title=\"My Love Is Your Love (song)\">My Love Is Your Love</a>,\n",
       " <a href=\"/wiki/Whitney_Houston\" title=\"Whitney Houston\">Whitney Houston</a>,\n",
       " <a href=\"/wiki/Then_the_Morning_Comes\" title=\"Then the Morning Comes\">Then the Morning Comes</a>,\n",
       " <a href=\"/wiki/Smash_Mouth\" title=\"Smash Mouth\">Smash Mouth</a>,\n",
       " <a href=\"/wiki/Blue_(Da_Ba_Dee)\" title=\"Blue (Da Ba Dee)\">Blue (Da Ba Dee)</a>,\n",
       " <a href=\"/wiki/Eiffel_65\" title=\"Eiffel 65\">Eiffel 65</a>,\n",
       " <a href=\"/wiki/Desert_Rose_(Sting_song)\" title=\"Desert Rose (Sting song)\">Desert Rose</a>,\n",
       " <a href=\"/wiki/Sting_(musician)\" title=\"Sting (musician)\">Sting</a>,\n",
       " <a href=\"/wiki/Cheb_Mami\" title=\"Cheb Mami\">Cheb Mami</a>,\n",
       " <a href=\"/wiki/The_Real_Slim_Shady\" title=\"The Real Slim Shady\">The Real Slim Shady</a>,\n",
       " <a href=\"/wiki/Eminem\" title=\"Eminem\">Eminem</a>,\n",
       " <a href=\"/wiki/Most_Girls_(Pink_song)\" title=\"Most Girls (Pink song)\">Most Girls</a>,\n",
       " <a href=\"/wiki/Pink_(singer)\" title=\"Pink (singer)\">Pink</a>,\n",
       " <a href=\"/wiki/Wifey_(song)\" title=\"Wifey (song)\">Wifey</a>,\n",
       " <a href=\"/wiki/Next_(American_band)\" title=\"Next (American band)\">Next</a>,\n",
       " <a href=\"/wiki/Wonderful_(Everclear_song)\" title=\"Wonderful (Everclear song)\">Wonderful</a>,\n",
       " <a href=\"/wiki/Everclear_(band)\" title=\"Everclear (band)\">Everclear</a>,\n",
       " <a href=\"/wiki/Oops!..._I_Did_It_Again_(song)\" title=\"Oops!... I Did It Again (song)\">Oops!... I Did It Again</a>,\n",
       " <a href=\"/wiki/Britney_Spears\" title=\"Britney Spears\">Britney Spears</a>,\n",
       " <a href=\"/wiki/I_Wanna_Love_You_Forever\" title=\"I Wanna Love You Forever\">I Wanna Love You Forever</a>,\n",
       " <a href=\"/wiki/Jessica_Simpson\" title=\"Jessica Simpson\">Jessica Simpson</a>,\n",
       " <a href=\"/wiki/Give_Me_Just_One_Night_(Una_Noche)\" title=\"Give Me Just One Night (Una Noche)\">Give Me Just One Night (Una Noche)</a>,\n",
       " <a href=\"/wiki/98_Degrees\" title=\"98 Degrees\">98 Degrees</a>,\n",
       " <a href=\"/wiki/Take_a_Picture_(Filter_song)\" title=\"Take a Picture (Filter song)\">Take a Picture</a>,\n",
       " <a href=\"/wiki/Filter_(band)\" title=\"Filter (band)\">Filter</a>,\n",
       " <a href=\"/wiki/Otherside\" title=\"Otherside\">Otherside</a>,\n",
       " <a href=\"/wiki/Red_Hot_Chili_Peppers\" title=\"Red Hot Chili Peppers\">Red Hot Chili Peppers</a>,\n",
       " <a href=\"/wiki/Big_Pimpin%27\" title=\"Big Pimpin'\">Big Pimpin'</a>,\n",
       " <a href=\"/wiki/Jay-Z\" title=\"Jay-Z\">Jay-Z</a>,\n",
       " <a href=\"/wiki/UGK\" title=\"UGK\">UGK</a>,\n",
       " <a href=\"/wiki/A_Puro_Dolor\" title=\"A Puro Dolor\">Purest of Pain (A Puro Dolor)</a>,\n",
       " <a href=\"/wiki/Son_by_Four\" title=\"Son by Four\">Son by Four</a>,\n",
       " <a href=\"/wiki/He_Can%27t_Love_U\" title=\"He Can't Love U\">He Can't Love U</a>,\n",
       " <a href=\"/wiki/Jagged_Edge_(American_group)\" title=\"Jagged Edge (American group)\">Jagged Edge</a>,\n",
       " <a href=\"/wiki/Separated_(song)\" title=\"Separated (song)\">Separated</a>,\n",
       " <a href=\"/wiki/Avant_(singer)\" title=\"Avant (singer)\">Avant</a>,\n",
       " <a href=\"/wiki/I_Wish_(Carl_Thomas_song)\" title=\"I Wish (Carl Thomas song)\">I Wish</a>,\n",
       " <a href=\"/wiki/Carl_Thomas_(singer)\" title=\"Carl Thomas (singer)\">Carl Thomas</a>,\n",
       " <a href=\"/wiki/U_Know_What%27s_Up\" title=\"U Know What's Up\">U Know What's Up</a>,\n",
       " <a href=\"/wiki/Donell_Jones\" title=\"Donell Jones\">Donell Jones</a>,\n",
       " <a href=\"/wiki/Faded_(soulDecision_song)\" title=\"Faded (soulDecision song)\">Faded</a>,\n",
       " <a href=\"/wiki/SoulDecision\" title=\"SoulDecision\">soulDecision</a>,\n",
       " <a href=\"/wiki/Thrust_(rapper)\" title=\"Thrust (rapper)\">Thrust</a>,\n",
       " <a href=\"/wiki/Only_God_Knows_Why\" title=\"Only God Knows Why\">Only God Knows Why</a>,\n",
       " <a href=\"/wiki/Kid_Rock\" title=\"Kid Rock\">Kid Rock</a>,\n",
       " <a href=\"/wiki/Shake_Ya_Ass\" title=\"Shake Ya Ass\">Shake Ya Ass</a>,\n",
       " <a href=\"/wiki/Mystikal\" title=\"Mystikal\">Mystikal</a>,\n",
       " <a href=\"/wiki/Bag_Lady\" title=\"Bag Lady\">Bag Lady</a>,\n",
       " <a href=\"/wiki/Erykah_Badu\" title=\"Erykah Badu\">Erykah Badu</a>,\n",
       " <a href=\"/wiki/Meet_Virginia\" title=\"Meet Virginia\">Meet Virginia</a>,\n",
       " <a href=\"/wiki/Train_(band)\" title=\"Train (band)\">Train</a>,\n",
       " <a href=\"/wiki/Party_Up_(Up_in_Here)\" title=\"Party Up (Up in Here)\">Party Up (Up in Here)</a>,\n",
       " <a class=\"mw-redirect\" href=\"/wiki/DMX_(rapper)\" title=\"DMX (rapper)\">DMX</a>,\n",
       " <a href=\"/wiki/Case_of_the_Ex\" title=\"Case of the Ex\">Case of the Ex (Whatcha Gonna Do)</a>,\n",
       " <a class=\"mw-redirect\" href=\"/wiki/M%C3%BDa\" title=\"Mýa\">Mýa</a>,\n",
       " <a href=\"/wiki/Forgot_About_Dre\" title=\"Forgot About Dre\">Forgot About Dre</a>,\n",
       " <a href=\"/wiki/Dr._Dre\" title=\"Dr. Dre\">Dr. Dre</a>,\n",
       " <a href=\"/wiki/Eminem\" title=\"Eminem\">Eminem</a>,\n",
       " <a href=\"/wiki/That%27s_the_Way_(Jo_Dee_Messina_song)\" title=\"That's the Way (Jo Dee Messina song)\">That's the Way</a>,\n",
       " <a href=\"/wiki/Jo_Dee_Messina\" title=\"Jo Dee Messina\">Jo Dee Messina</a>,\n",
       " <a href=\"/wiki/Swear_It_Again\" title=\"Swear It Again\">Swear It Again</a>,\n",
       " <a href=\"/wiki/Westlife\" title=\"Westlife\">Westlife</a>,\n",
       " <a href=\"/wiki/The_Next_Episode\" title=\"The Next Episode\">The Next Episode</a>,\n",
       " <a href=\"/wiki/Dr._Dre\" title=\"Dr. Dre\">Dr. Dre</a>,\n",
       " <a href=\"/wiki/Snoop_Dogg\" title=\"Snoop Dogg\">Snoop Dogg</a>,\n",
       " <a href=\"/wiki/From_the_Bottom_of_My_Broken_Heart\" title=\"From the Bottom of My Broken Heart\">From the Bottom of My Broken Heart</a>,\n",
       " <a href=\"/wiki/Britney_Spears\" title=\"Britney Spears\">Britney Spears</a>,\n",
       " <a href=\"/wiki/Crash_and_Burn_(Savage_Garden_song)\" title=\"Crash and Burn (Savage Garden song)\">Crash and Burn</a>,\n",
       " <a href=\"/wiki/Savage_Garden\" title=\"Savage Garden\">Savage Garden</a>,\n",
       " <a class=\"mw-redirect\" href=\"/wiki/Yes!_(song)\" title=\"Yes! (song)\">Yes!</a>,\n",
       " <a href=\"/wiki/Chad_Brock\" title=\"Chad Brock\">Chad Brock</a>,\n",
       " <a href=\"/wiki/The_Best_Day_(George_Strait_song)\" title=\"The Best Day (George Strait song)\">The Best Day</a>,\n",
       " <a href=\"/wiki/George_Strait\" title=\"George Strait\">George Strait</a>,\n",
       " <a href=\"/wiki/Where_I_Wanna_Be_(Donell_Jones_song)\" title=\"Where I Wanna Be (Donell Jones song)\">Where I Wanna Be</a>,\n",
       " <a href=\"/wiki/Donell_Jones\" title=\"Donell Jones\">Donell Jones</a>,\n",
       " <a href=\"/wiki/How_Do_You_Like_Me_Now%3F!_(song)\" title=\"How Do You Like Me Now?! (song)\">How Do You Like Me Now?!</a>,\n",
       " <a href=\"/wiki/Toby_Keith\" title=\"Toby Keith\">Toby Keith</a>,\n",
       " <a href=\"/wiki/My_Best_Friend_(song)\" title=\"My Best Friend (song)\">My Best Friend</a>,\n",
       " <a href=\"/wiki/Tim_McGraw\" title=\"Tim McGraw\">Tim McGraw</a>,\n",
       " <a href=\"/wiki/Broadway_(Goo_Goo_Dolls_song)\" title=\"Broadway (Goo Goo Dolls song)\">Broadway</a>,\n",
       " <a href=\"/wiki/Goo_Goo_Dolls\" title=\"Goo Goo Dolls\">Goo Goo Dolls</a>,\n",
       " <a href=\"/wiki/What%27chu_Like\" title=\"What'chu Like\">What'chu Like</a>,\n",
       " <a href=\"/wiki/Da_Brat\" title=\"Da Brat\">Da Brat</a>,\n",
       " <a href=\"/wiki/Tyrese_Gibson\" title=\"Tyrese Gibson\">Tyrese</a>,\n",
       " <a href=\"/wiki/Don%27t_Think_I%27m_Not\" title=\"Don't Think I'm Not\">Don't Think I'm Not</a>,\n",
       " <a href=\"/wiki/Kandi_Burruss\" title=\"Kandi Burruss\">Kandi</a>,\n",
       " <a class=\"mw-redirect\" href=\"/wiki/I_Hope_You_Dance_(song)\" title=\"I Hope You Dance (song)\">I Hope You Dance</a>,\n",
       " <a href=\"/wiki/Lee_Ann_Womack\" title=\"Lee Ann Womack\">Lee Ann Womack</a>,\n",
       " <a href=\"/wiki/Sons_of_the_Desert\" title=\"Sons of the Desert\">Sons of the Desert</a>,\n",
       " <a class=\"mw-redirect\" href=\"/wiki/Better_Off_Alone_(Alice_DeeJay_song)\" title=\"Better Off Alone (Alice DeeJay song)\">Better Off Alone</a>,\n",
       " <a href=\"/wiki/Alice_Deejay\" title=\"Alice Deejay\">Alice Deejay</a>,\n",
       " <a href=\"/wiki/Dance_with_Me_(Debelah_Morgan_song)\" title=\"Dance with Me (Debelah Morgan song)\">Dance with Me</a>,\n",
       " <a href=\"/wiki/Debelah_Morgan\" title=\"Debelah Morgan\">Debelah Morgan</a>,\n",
       " <a href=\"/wiki/What_About_Now_(Lonestar_song)\" title=\"What About Now (Lonestar song)\">What About Now</a>,\n",
       " <a href=\"/wiki/Lonestar\" title=\"Lonestar\">Lonestar</a>,\n",
       " <a href=\"/wiki/I_Like_It_(Sammie_song)\" title=\"I Like It (Sammie song)\">I Like It</a>,\n",
       " <a href=\"/wiki/Sammie\" title=\"Sammie\">Sammie</a>,\n",
       " <a href=\"/wiki/24/7_(Kevon_Edmonds_song)\" title=\"24/7 (Kevon Edmonds song)\">24/7</a>,\n",
       " <a href=\"/wiki/Kevon_Edmonds\" title=\"Kevon Edmonds\">Kevon Edmonds</a>,\n",
       " <a href=\"/wiki/Girl_on_TV\" title=\"Girl on TV\">Girl on TV</a>,\n",
       " <a class=\"mw-redirect\" href=\"/wiki/LFO_(group)\" title=\"LFO (group)\">LFO</a>,\n",
       " <a href=\"/wiki/Bounce_with_Me\" title=\"Bounce with Me\">Bounce with Me</a>,\n",
       " <a href=\"/wiki/Bow_Wow_(rapper)\" title=\"Bow Wow (rapper)\">Lil' Bow Wow</a>,\n",
       " <a class=\"mw-redirect\" href=\"/wiki/Xscape_(band)\" title=\"Xscape (band)\">Xscape</a>,\n",
       " <a href=\"/wiki/Cowboy_Take_Me_Away\" title=\"Cowboy Take Me Away\">Cowboy Take Me Away</a>,\n",
       " <a class=\"mw-redirect\" href=\"/wiki/Dixie_Chicks\" title=\"Dixie Chicks\">Dixie Chicks</a>,\n",
       " <a href=\"/wiki/I_Don%27t_Wanna_(Aaliyah_song)\" title=\"I Don't Wanna (Aaliyah song)\">I Don't Wanna</a>,\n",
       " <a href=\"/wiki/Aaliyah\" title=\"Aaliyah\">Aaliyah</a>,\n",
       " <a href=\"/wiki/Independent_Women_Part_I\" title=\"Independent Women Part I\">Independent Women Part I</a>,\n",
       " <a href=\"/wiki/Destiny%27s_Child\" title=\"Destiny's Child\">Destiny's Child</a>,\n",
       " <a href=\"/wiki/Gotta_Tell_You_(song)\" title=\"Gotta Tell You (song)\">Gotta Tell You</a>,\n",
       " <a href=\"/wiki/Samantha_Mumba\" title=\"Samantha Mumba\">Samantha Mumba</a>,\n",
       " <a href=\"/wiki/Waiting_for_Tonight\" title=\"Waiting for Tonight\">Waiting for Tonight</a>,\n",
       " <a href=\"/wiki/Jennifer_Lopez\" title=\"Jennifer Lopez\">Jennifer Lopez</a>,\n",
       " <a href=\"/wiki/Shackles_(Praise_You)\" title=\"Shackles (Praise You)\">Shackles (Praise You)</a>,\n",
       " <a href=\"/wiki/Mary_Mary\" title=\"Mary Mary\">Mary Mary</a>]"
      ]
     },
     "execution_count": 24,
     "metadata": {},
     "output_type": "execute_result"
    }
   ],
   "source": [
    "soups[0].select('.wikitable > tbody > tr > td > a')"
   ]
  },
  {
   "cell_type": "code",
   "execution_count": 16,
   "id": "1e256864-f307-4125-bf66-220b78d0ff30",
   "metadata": {},
   "outputs": [
    {
     "data": {
      "text/plain": [
       "'Breathe'"
      ]
     },
     "execution_count": 16,
     "metadata": {},
     "output_type": "execute_result"
    }
   ],
   "source": [
    "soups[0].select('.wikitable > tbody > tr > td > a')[0].get_text()"
   ]
  },
  {
   "cell_type": "code",
   "execution_count": 17,
   "id": "4c44a83b-c8ce-492a-8e5b-35b58e4f0c04",
   "metadata": {},
   "outputs": [],
   "source": [
    "song = []\n",
    "artist = []"
   ]
  },
  {
   "cell_type": "code",
   "execution_count": 18,
   "id": "b217e31b-648d-4848-b6ba-0b271b176f31",
   "metadata": {},
   "outputs": [],
   "source": [
    "for i in soups:\n",
    "    for tag in i.select('.wikitable > tbody > tr > td > a'):\n",
    "        song.append(tag.get_text())"
   ]
  },
  {
   "cell_type": "code",
   "execution_count": 20,
   "id": "c38f35c1-094c-47d8-9a88-e4365bcdc277",
   "metadata": {},
   "outputs": [],
   "source": [
    "#song"
   ]
  },
  {
   "cell_type": "code",
   "execution_count": 135,
   "id": "8c5ce9fc-a9d3-45b2-b9f9-180e5142b571",
   "metadata": {},
   "outputs": [],
   "source": [
    "#soups.select('#mw-content-text > div.mw-parser-output > table > tbody')"
   ]
  },
  {
   "cell_type": "code",
   "execution_count": 136,
   "id": "7104a5bb-2248-41ff-beaa-84aa6d6eecc6",
   "metadata": {},
   "outputs": [],
   "source": [
    "#table_all = soups.select('.wikitable sortable jquery-tablesorter tbody')"
   ]
  },
  {
   "cell_type": "code",
   "execution_count": 137,
   "id": "034b0848-6a14-4706-b0f5-b2164ac5a609",
   "metadata": {},
   "outputs": [],
   "source": [
    "# Checking the selectors to see what they bring back\n",
    "\n",
    "from requests_html import HTMLSession"
   ]
  },
  {
   "cell_type": "code",
   "execution_count": 154,
   "id": "810b4e01-05d9-48b2-bbee-a488bf000c06",
   "metadata": {},
   "outputs": [],
   "source": [
    "s = HTMLSession()\n",
    "r = s.get('https://en.wikipedia.org/wiki/Billboard_Year-End_Hot_100_singles_of_2000')"
   ]
  },
  {
   "cell_type": "code",
   "execution_count": 1,
   "id": "6ffcd231-d315-4d9e-b58b-76065ffdef26",
   "metadata": {},
   "outputs": [],
   "source": [
    "sel = '.wikitable > tbody > tr > td > a'"
   ]
  },
  {
   "cell_type": "code",
   "execution_count": 21,
   "id": "2f553404-5cac-4250-b387-e75ab47e5b32",
   "metadata": {},
   "outputs": [],
   "source": [
    "#print(r.html.find(sel))"
   ]
  },
  {
   "cell_type": "code",
   "execution_count": 156,
   "id": "f865d4c1-4e2c-4b4a-8bf6-b8e5e90def6e",
   "metadata": {},
   "outputs": [],
   "source": []
  },
  {
   "cell_type": "code",
   "execution_count": null,
   "id": "7609044d-f782-4116-b02c-68fef7081af2",
   "metadata": {},
   "outputs": [],
   "source": []
  }
 ],
 "metadata": {
  "kernelspec": {
   "display_name": "Python 3 (ipykernel)",
   "language": "python",
   "name": "python3"
  },
  "language_info": {
   "codemirror_mode": {
    "name": "ipython",
    "version": 3
   },
   "file_extension": ".py",
   "mimetype": "text/x-python",
   "name": "python",
   "nbconvert_exporter": "python",
   "pygments_lexer": "ipython3",
   "version": "3.8.12"
  }
 },
 "nbformat": 4,
 "nbformat_minor": 5
}
