{
 "cells": [
  {
   "cell_type": "markdown",
   "id": "4603825c-13d8-4dec-8bb3-608b73ba1a70",
   "metadata": {},
   "source": [
    "## Lab | Web Scraping Multiple Pages\n",
    "Jorge Castro DAPT NOV 2021"
   ]
  },
  {
   "cell_type": "markdown",
   "id": "ba0fadef-2d91-41f7-bf79-9601d33c942b",
   "metadata": {},
   "source": [
    "### Instructions\n",
    "\n",
    "#### Prioritize the MVP\n",
    "\n",
    "In the previous lab, you had to scrape data about \"hot songs\". It's critical to be on track with that part, as it was part of the request from the CTO.\n",
    "\n",
    "If you couldn't finish the first lab, use this time to go back there.\n",
    "\n",
    "Expand the project\n",
    "If you're done, you can try to expand the project on your own. Here are a few suggestions:\n",
    "\n",
    "Find other lists of hot songs on the internet and scrape them too: having a bigger pool of songs will be awesome!\n",
    "Apply the same logic to other \"groups\" of songs: the best songs from a decade or from a country / culture / language / genre.\n",
    "Wikipedia maintains a large collection of lists of songs: https://en.wikipedia.org/wiki/Lists_of_songs"
   ]
  },
  {
   "cell_type": "code",
   "execution_count": 19,
   "id": "b10f560b-f8f0-46e4-b94f-736f95a1d88b",
   "metadata": {},
   "outputs": [],
   "source": [
    "from bs4 import BeautifulSoup\n",
    "import pandas as pd\n",
    "import requests"
   ]
  },
  {
   "cell_type": "code",
   "execution_count": 20,
   "id": "aa06322a-8f53-4631-86c0-68f8cbfcbe1c",
   "metadata": {},
   "outputs": [],
   "source": [
    "from time import sleep\n",
    "import random\n",
    "from datetime import datetime\n",
    "from tqdm.notebook import tqdm"
   ]
  },
  {
   "cell_type": "raw",
   "id": "665198b0-bacb-4915-bcc9-f6625139f2f5",
   "metadata": {},
   "source": [
    "r = requests.get('https://en.wikipedia.org/wiki/List_of_Eurovision_Song_Contest_entries_(2004%E2%80%93present)')"
   ]
  },
  {
   "cell_type": "raw",
   "id": "5e7bbe71-12ec-4fd3-a0ba-0d348e76b9a8",
   "metadata": {},
   "source": [
    "r.status_code"
   ]
  },
  {
   "cell_type": "raw",
   "id": "81438264-78e6-4086-8e6a-d487b47f91b4",
   "metadata": {},
   "source": [
    "html = r.content\n",
    "soup = BeautifulSoup(html, 'html.parser')\n",
    "\n",
    "# Get all the tables with Eurovision songs\n",
    "\n",
    "html_table = soup.find_all('table', attrs={'class': 'wikitable plainrowheaders'})"
   ]
  },
  {
   "cell_type": "raw",
   "id": "fc84a9d6-5488-4cde-a3af-ae77a95f1f83",
   "metadata": {},
   "source": [
    "#html_table"
   ]
  },
  {
   "cell_type": "raw",
   "id": "38c938d1-40f5-4ccb-a853-ef1f8198408d",
   "metadata": {},
   "source": [
    "# Creating DataFrame, loopping through the raw data and fetching the elements\n",
    "\n",
    "eurosong = pd.DataFrame()\n",
    "\n",
    "for i in range(len(html_table)):\n",
    "    df = pd.read_html(html_table[i].prettify())[0]\n",
    "    eurosong = pd.concat([eurosong, df])"
   ]
  },
  {
   "cell_type": "raw",
   "id": "a5753b1e-29ff-4150-b04b-e44531bf0ef6",
   "metadata": {},
   "source": [
    "#df"
   ]
  },
  {
   "cell_type": "raw",
   "id": "54bb0e06-0125-4e94-9620-ba2e1eb37a3d",
   "metadata": {},
   "source": [
    "##### Cleaning the data"
   ]
  },
  {
   "cell_type": "raw",
   "id": "2fedffb5-7793-4b29-b918-eafbe9d75967",
   "metadata": {},
   "source": [
    "# Making all column names lowercase and replacing spaces by underscore\n",
    "\n",
    "eurosong.columns=[eurosong.columns[col_name].lower().replace(' ','_') \\\n",
    "for col_name in range(len(eurosong.columns))]"
   ]
  },
  {
   "cell_type": "raw",
   "id": "e5cf8216-bf59-4092-b157-523ec5a5e78e",
   "metadata": {},
   "source": [
    "eurosong.columns"
   ]
  },
  {
   "cell_type": "raw",
   "id": "cb5d33f6-a991-4a9e-a18b-d7e00d3387c9",
   "metadata": {},
   "source": [
    "# Selecting only song and artist, we need to reset the index. To avoid\n",
    "# having 2 indexes, we set the reset_index to drop=True\n",
    "\n",
    "eurosong = eurosong[['song', 'artist']].reset_index(drop=True)\n",
    "\n",
    "# Getting rid of the double quotes in every song, the I apply the strip \n",
    "# method removing both the leading and the trailing characters\n",
    "eurosong['song'] = eurosong['song'].apply(lambda title: title.replace('\"','').strip())"
   ]
  },
  {
   "cell_type": "raw",
   "id": "5be7f5a5-9bb2-423a-b213-191f439bf7d2",
   "metadata": {},
   "source": [
    "eurosong"
   ]
  },
  {
   "cell_type": "markdown",
   "id": "e73eed0a-eea2-4c9b-9541-c4cc29700f07",
   "metadata": {},
   "source": [
    "## Getting more songs from wikipedia"
   ]
  },
  {
   "cell_type": "code",
   "execution_count": 60,
   "id": "5681ae93-97fa-4606-8683-47a5b879b36c",
   "metadata": {},
   "outputs": [
    {
     "data": {
      "text/plain": [
       "200"
      ]
     },
     "execution_count": 60,
     "metadata": {},
     "output_type": "execute_result"
    }
   ],
   "source": [
    "# Making a dinamic string to create the urls\n",
    "urls = []\n",
    "for i in range(0,2):\n",
    "    urls.append(f'https://en.wikipedia.org/wiki/Billboard_Year-End_Hot_100_singles_of_200{i}')\n",
    "\n",
    "# Downloading html with a get request\n",
    "response = requests.get(urls[0])\n",
    "response.status_code "
   ]
  },
  {
   "cell_type": "code",
   "execution_count": 61,
   "id": "a9967257-8bba-43b8-a7ec-6fbdfb12e3ab",
   "metadata": {},
   "outputs": [
    {
     "data": {
      "text/plain": [
       "['https://en.wikipedia.org/wiki/Billboard_Year-End_Hot_100_singles_of_2000',\n",
       " 'https://en.wikipedia.org/wiki/Billboard_Year-End_Hot_100_singles_of_2001']"
      ]
     },
     "execution_count": 61,
     "metadata": {},
     "output_type": "execute_result"
    }
   ],
   "source": [
    "urls"
   ]
  },
  {
   "cell_type": "markdown",
   "id": "5f3a40c1-eb6f-4825-b731-667462af2eca",
   "metadata": {},
   "source": [
    "\n"
   ]
  },
  {
   "cell_type": "code",
   "execution_count": 62,
   "id": "d07062ac-67d3-4eba-8918-311de7596dd9",
   "metadata": {},
   "outputs": [],
   "source": [
    "#parse html (create the 'soup')\n",
    "soups = []\n",
    "\n",
    "for i in urls:\n",
    "    soups.append(BeautifulSoup((requests.get(i)).content, 'html.parser'))"
   ]
  },
  {
   "cell_type": "code",
   "execution_count": 64,
   "id": "748e7a45-15cb-4af7-b442-97558ba8221b",
   "metadata": {},
   "outputs": [],
   "source": [
    "#soups"
   ]
  },
  {
   "cell_type": "code",
   "execution_count": null,
   "id": "652ff6bf-2fb0-4ef5-8f4b-2fc8c6c5de1d",
   "metadata": {},
   "outputs": [],
   "source": [
    "              "
   ]
  },
  {
   "cell_type": "code",
   "execution_count": 65,
   "id": "8c5ce9fc-a9d3-45b2-b9f9-180e5142b571",
   "metadata": {},
   "outputs": [
    {
     "ename": "AttributeError",
     "evalue": "'list' object has no attribute 'select'",
     "output_type": "error",
     "traceback": [
      "\u001b[1;31m---------------------------------------------------------------------------\u001b[0m",
      "\u001b[1;31mAttributeError\u001b[0m                            Traceback (most recent call last)",
      "\u001b[1;32m~\\AppData\\Local\\Temp/ipykernel_7524/459077456.py\u001b[0m in \u001b[0;36m<module>\u001b[1;34m\u001b[0m\n\u001b[1;32m----> 1\u001b[1;33m \u001b[0msoups\u001b[0m \u001b[1;33m=\u001b[0m \u001b[0msoups\u001b[0m\u001b[1;33m.\u001b[0m\u001b[0mselect\u001b[0m\u001b[1;33m(\u001b[0m\u001b[1;34m'#mw-content-text > div.mw-parser-output > table > tbody > tr:nth-child(1) > td:nth-child(2) > a'\u001b[0m\u001b[1;33m)\u001b[0m\u001b[1;33m\u001b[0m\u001b[1;33m\u001b[0m\u001b[0m\n\u001b[0m",
      "\u001b[1;31mAttributeError\u001b[0m: 'list' object has no attribute 'select'"
     ]
    }
   ],
   "source": [
    "soups = soups.select('#mw-content-text > div.mw-parser-output > table > tbody > tr:nth-child(1) > td:nth-child(2) > a')"
   ]
  },
  {
   "cell_type": "code",
   "execution_count": 48,
   "id": "7104a5bb-2248-41ff-beaa-84aa6d6eecc6",
   "metadata": {},
   "outputs": [],
   "source": [
    "#table_all = soups.select('.wikitable sortable jquery-tablesorter tbody')"
   ]
  },
  {
   "cell_type": "code",
   "execution_count": null,
   "id": "034b0848-6a14-4706-b0f5-b2164ac5a609",
   "metadata": {},
   "outputs": [],
   "source": []
  }
 ],
 "metadata": {
  "kernelspec": {
   "display_name": "Python 3 (ipykernel)",
   "language": "python",
   "name": "python3"
  },
  "language_info": {
   "codemirror_mode": {
    "name": "ipython",
    "version": 3
   },
   "file_extension": ".py",
   "mimetype": "text/x-python",
   "name": "python",
   "nbconvert_exporter": "python",
   "pygments_lexer": "ipython3",
   "version": "3.8.12"
  }
 },
 "nbformat": 4,
 "nbformat_minor": 5
}
